{
 "cells": [
  {
   "cell_type": "code",
   "execution_count": 1,
   "metadata": {},
   "outputs": [
    {
     "data": {
      "text/html": [
       "<div>\n",
       "<style scoped>\n",
       "    .dataframe tbody tr th:only-of-type {\n",
       "        vertical-align: middle;\n",
       "    }\n",
       "\n",
       "    .dataframe tbody tr th {\n",
       "        vertical-align: top;\n",
       "    }\n",
       "\n",
       "    .dataframe thead th {\n",
       "        text-align: right;\n",
       "    }\n",
       "</style>\n",
       "<table border=\"1\" class=\"dataframe\">\n",
       "  <thead>\n",
       "    <tr style=\"text-align: right;\">\n",
       "      <th></th>\n",
       "      <th>minu</th>\n",
       "      <th>max_ask_price</th>\n",
       "      <th>min_ask_price</th>\n",
       "      <th>total_ask_volume</th>\n",
       "      <th>open_price</th>\n",
       "      <th>close_price</th>\n",
       "    </tr>\n",
       "  </thead>\n",
       "  <tbody>\n",
       "    <tr>\n",
       "      <th>0</th>\n",
       "      <td>2021-02-01 00:00:00</td>\n",
       "      <td>3687.067</td>\n",
       "      <td>3684.251</td>\n",
       "      <td>0.21819</td>\n",
       "      <td>3684.367</td>\n",
       "      <td>3685.487680</td>\n",
       "    </tr>\n",
       "    <tr>\n",
       "      <th>1</th>\n",
       "      <td>2021-02-01 00:01:00</td>\n",
       "      <td>3686.546</td>\n",
       "      <td>3684.301</td>\n",
       "      <td>0.26539</td>\n",
       "      <td>3686.066</td>\n",
       "      <td>3685.409462</td>\n",
       "    </tr>\n",
       "    <tr>\n",
       "      <th>2</th>\n",
       "      <td>2021-02-01 00:02:00</td>\n",
       "      <td>3687.046</td>\n",
       "      <td>3685.257</td>\n",
       "      <td>0.21804</td>\n",
       "      <td>3685.858</td>\n",
       "      <td>3686.019379</td>\n",
       "    </tr>\n",
       "    <tr>\n",
       "      <th>3</th>\n",
       "      <td>2021-02-01 00:03:00</td>\n",
       "      <td>3687.361</td>\n",
       "      <td>3685.355</td>\n",
       "      <td>0.20551</td>\n",
       "      <td>3685.355</td>\n",
       "      <td>3686.710172</td>\n",
       "    </tr>\n",
       "    <tr>\n",
       "      <th>4</th>\n",
       "      <td>2021-02-01 00:04:00</td>\n",
       "      <td>3687.367</td>\n",
       "      <td>3686.701</td>\n",
       "      <td>0.21763</td>\n",
       "      <td>3686.951</td>\n",
       "      <td>3687.077286</td>\n",
       "    </tr>\n",
       "  </tbody>\n",
       "</table>\n",
       "</div>"
      ],
      "text/plain": [
       "                 minu  max_ask_price  min_ask_price  total_ask_volume  \\\n",
       "0 2021-02-01 00:00:00       3687.067       3684.251           0.21819   \n",
       "1 2021-02-01 00:01:00       3686.546       3684.301           0.26539   \n",
       "2 2021-02-01 00:02:00       3687.046       3685.257           0.21804   \n",
       "3 2021-02-01 00:03:00       3687.361       3685.355           0.20551   \n",
       "4 2021-02-01 00:04:00       3687.367       3686.701           0.21763   \n",
       "\n",
       "   open_price  close_price  \n",
       "0    3684.367  3685.487680  \n",
       "1    3686.066  3685.409462  \n",
       "2    3685.858  3686.019379  \n",
       "3    3685.355  3686.710172  \n",
       "4    3686.951  3687.077286  "
      ]
     },
     "execution_count": 1,
     "metadata": {},
     "output_type": "execute_result"
    }
   ],
   "source": [
    "import sys\n",
    "sys.path.append('../')\n",
    "import src.bars as bars\n",
    "import src.ticksDB as ticksDB\n",
    "\n",
    "# Connect to the database\n",
    "tickDB = ticksDB.ticksDB()\n",
    "tickDB.connect()\n",
    "\n",
    "# Get the bars\n",
    "time_bars = bars.timeBars('USA500.IDX', '2021-02-01', '2021-02-10', tickDB, 'minute')\n",
    "time_bars = time_bars.get_ask_bars()\n",
    "time_bars.head()"
   ]
  },
  {
   "cell_type": "code",
   "execution_count": 2,
   "metadata": {},
   "outputs": [],
   "source": [
    "# Great, now we have the bars. Let's label them.\n",
    "\n",
    "\n",
    "# Import the labeler\n",
    "from src.labeling import barHorizonLabeler\n",
    "barHorizonLabeler = barHorizonLabeler(time_bars, 5)\n",
    "barHorizonLabeler.label(epsilon=0.0001, debug=True)\n",
    "\n",
    "## This epsilon parameter is the threshold for labeling. If the return is greater than epsilon, then the label is 1. If the return is less than -epsilon, then the label is -1. If the return is between -epsilon and epsilon, then the label is 0.\n",
    "## The results are very sensitive to this parameter. If we set epsilon to 0.1, then the labels are all 0. If we set epsilon to 0.0001, then the labels are 1 and -1.\n"
   ]
  },
  {
   "cell_type": "code",
   "execution_count": 3,
   "metadata": {},
   "outputs": [
    {
     "data": {
      "text/html": [
       "<div>\n",
       "<style scoped>\n",
       "    .dataframe tbody tr th:only-of-type {\n",
       "        vertical-align: middle;\n",
       "    }\n",
       "\n",
       "    .dataframe tbody tr th {\n",
       "        vertical-align: top;\n",
       "    }\n",
       "\n",
       "    .dataframe thead th {\n",
       "        text-align: right;\n",
       "    }\n",
       "</style>\n",
       "<table border=\"1\" class=\"dataframe\">\n",
       "  <thead>\n",
       "    <tr style=\"text-align: right;\">\n",
       "      <th></th>\n",
       "      <th>minu</th>\n",
       "      <th>max_ask_price</th>\n",
       "      <th>min_ask_price</th>\n",
       "      <th>total_ask_volume</th>\n",
       "      <th>open_price</th>\n",
       "      <th>close_price</th>\n",
       "      <th>label</th>\n",
       "    </tr>\n",
       "  </thead>\n",
       "  <tbody>\n",
       "    <tr>\n",
       "      <th>0</th>\n",
       "      <td>2021-02-01 00:00:00</td>\n",
       "      <td>3687.067</td>\n",
       "      <td>3684.251</td>\n",
       "      <td>0.21819</td>\n",
       "      <td>3684.367</td>\n",
       "      <td>3685.487680</td>\n",
       "      <td>1.0</td>\n",
       "    </tr>\n",
       "    <tr>\n",
       "      <th>1</th>\n",
       "      <td>2021-02-01 00:01:00</td>\n",
       "      <td>3686.546</td>\n",
       "      <td>3684.301</td>\n",
       "      <td>0.26539</td>\n",
       "      <td>3686.066</td>\n",
       "      <td>3685.409462</td>\n",
       "      <td>0.0</td>\n",
       "    </tr>\n",
       "    <tr>\n",
       "      <th>2</th>\n",
       "      <td>2021-02-01 00:02:00</td>\n",
       "      <td>3687.046</td>\n",
       "      <td>3685.257</td>\n",
       "      <td>0.21804</td>\n",
       "      <td>3685.858</td>\n",
       "      <td>3686.019379</td>\n",
       "      <td>1.0</td>\n",
       "    </tr>\n",
       "    <tr>\n",
       "      <th>3</th>\n",
       "      <td>2021-02-01 00:03:00</td>\n",
       "      <td>3687.361</td>\n",
       "      <td>3685.355</td>\n",
       "      <td>0.20551</td>\n",
       "      <td>3685.355</td>\n",
       "      <td>3686.710172</td>\n",
       "      <td>0.0</td>\n",
       "    </tr>\n",
       "    <tr>\n",
       "      <th>4</th>\n",
       "      <td>2021-02-01 00:04:00</td>\n",
       "      <td>3687.367</td>\n",
       "      <td>3686.701</td>\n",
       "      <td>0.21763</td>\n",
       "      <td>3686.951</td>\n",
       "      <td>3687.077286</td>\n",
       "      <td>-1.0</td>\n",
       "    </tr>\n",
       "  </tbody>\n",
       "</table>\n",
       "</div>"
      ],
      "text/plain": [
       "                 minu  max_ask_price  min_ask_price  total_ask_volume  \\\n",
       "0 2021-02-01 00:00:00       3687.067       3684.251           0.21819   \n",
       "1 2021-02-01 00:01:00       3686.546       3684.301           0.26539   \n",
       "2 2021-02-01 00:02:00       3687.046       3685.257           0.21804   \n",
       "3 2021-02-01 00:03:00       3687.361       3685.355           0.20551   \n",
       "4 2021-02-01 00:04:00       3687.367       3686.701           0.21763   \n",
       "\n",
       "   open_price  close_price  label  \n",
       "0    3684.367  3685.487680    1.0  \n",
       "1    3686.066  3685.409462    0.0  \n",
       "2    3685.858  3686.019379    1.0  \n",
       "3    3685.355  3686.710172    0.0  \n",
       "4    3686.951  3687.077286   -1.0  "
      ]
     },
     "execution_count": 3,
     "metadata": {},
     "output_type": "execute_result"
    }
   ],
   "source": [
    "time_bars.head()"
   ]
  },
  {
   "cell_type": "code",
   "execution_count": 4,
   "metadata": {},
   "outputs": [
    {
     "data": {
      "image/png": "[encoded data removed]",
      "text/plain": [
       "<Figure size 640x480 with 1 Axes>"
      ]
     },
     "metadata": {},
     "output_type": "display_data"
    }
   ],
   "source": [
    "## This is a distribution of the returns - this can help set epsilon, though in practice this would have to be done with historical data.\n",
    "## I'm cheating here. I'm using the returns from the labeling process to plot the distribution. In practice, you would have to use historical data to set epsilon.\n",
    "\n",
    "import numpy as np\n",
    "import matplotlib.pyplot as plt\n",
    "rets_values = np.array(barHorizonLabeler.rets_values)\n",
    "plt.hist(np.abs(rets_values), bins=50)\n",
    "plt.show()"
   ]
  },
  {
   "cell_type": "code",
   "execution_count": 1,
   "metadata": {},
   "outputs": [
    {
     "data": {
      "image/png": "[encoded data removed]",
      "text/plain": [
       "<Figure size 640x480 with 1 Axes>"
      ]
     },
     "metadata": {},
     "output_type": "display_data"
    }
   ],
   "source": [
    "import sys\n",
    "sys.path.append('../')\n",
    "import src.bars as bars\n",
    "import src.ticksDB as ticksDB\n",
    "import matplotlib.pyplot as plt\n",
    "import numpy as np\n",
    "\n",
    "# Connect to the database\n",
    "tickDB = ticksDB.ticksDB()\n",
    "tickDB.connect()\n",
    "from src.labeling import tripleBarrierLabeler\n",
    "\n",
    "# Get the bars\n",
    "time_bars = bars.timeBars('USA500.IDX', '2021-02-01', '2021-02-10', tickDB, 'minute')\n",
    "time_bars = time_bars.get_ask_bars()\n",
    "time_bars.head()\n",
    "\n",
    "time_bars.index = time_bars[\"minu\"]\n",
    "tripleBarrier = tripleBarrierLabeler(time_bars)\n",
    "dailyVolt = tripleBarrier.getDailyVolatility()\n",
    "plt.hist(np.abs(dailyVolt), bins=150)\n",
    "plt.show()"
   ]
  },
  {
   "cell_type": "code",
   "execution_count": 2,
   "metadata": {},
   "outputs": [
    {
     "name": "stderr",
     "output_type": "stream",
     "text": [
      "100%|██████████| 7922/7922 [00:24<00:00, 321.26it/s]\n"
     ]
    },
    {
     "data": {
      "image/png": "[encoded data removed]",
      "text/plain": [
       "<Figure size 640x480 with 1 Axes>"
      ]
     },
     "metadata": {},
     "output_type": "display_data"
    }
   ],
   "source": [
    "c = tripleBarrier.label(upFactor=2.0, downFactor=2.0)\n",
    "plt.hist(c['label'], bins=50)\n",
    "plt.show()"
   ]
  }
 ],
 "metadata": {
  "kernelspec": {
   "display_name": "base",
   "language": "python",
   "name": "python3"
  },
  "language_info": {
   "codemirror_mode": {
    "name": "ipython",
    "version": 3
   },
   "file_extension": ".py",
   "mimetype": "text/x-python",
   "name": "python",
   "nbconvert_exporter": "python",
   "pygments_lexer": "ipython3",
   "version": "3.9.13"
  },
  "orig_nbformat": 4
 },
 "nbformat": 4,
 "nbformat_minor": 2
}
